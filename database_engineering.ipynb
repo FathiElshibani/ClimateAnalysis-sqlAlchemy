{
 "cells": [
  {
   "cell_type": "code",
   "execution_count": 170,
   "metadata": {
    "collapsed": true
   },
   "outputs": [],
   "source": [
    "# Dependencies\n",
    "import pandas as pd \n",
    "# Imports the method used for connecting to DBs\n",
    "from sqlalchemy import create_engine, inspect\n",
    "# Imports the methods needed to abstract classes into tables\n",
    "from sqlalchemy.ext.declarative import declarative_base\n",
    "# Allow us to declare column types\n",
    "from sqlalchemy import Column, Integer, String, Float, Date,ForeignKey  \n",
    "#\n",
    "from sqlalchemy.orm import Session\n",
    "# PyMySQL \n",
    "import pymysql\n",
    "pymysql.install_as_MySQLdb()"
   ]
  },
  {
   "cell_type": "code",
   "execution_count": 171,
   "metadata": {
    "collapsed": true
   },
   "outputs": [],
   "source": [
    "# converting cvs files to pandas datafrmes\n",
    "clean_measurements_data = pd.DataFrame.from_csv(\"Resources/clean_hawaii_measurements.csv\")\n",
    "clean_measurements_data = clean_measurements_data.reset_index()\n",
    "clean_stations_data = pd.DataFrame.from_csv(\"Resources/clean_hawaii_stations.csv\")\n",
    "clean_stations_data = clean_stations_data.reset_index()"
   ]
  },
  {
   "cell_type": "code",
   "execution_count": 172,
   "metadata": {
    "collapsed": true
   },
   "outputs": [],
   "source": [
    "# Create Database Connection\n",
    "engine = create_engine(\"sqlite:///Resources/hawaii.sqlite\", echo=False)\n",
    "conn = engine.connect()"
   ]
  },
  {
   "cell_type": "code",
   "execution_count": 173,
   "metadata": {
    "collapsed": true
   },
   "outputs": [],
   "source": [
    "## Create Measurement and Station Classes\n",
    "\n",
    "# Sets an object to utilize the default declarative base in SQL Alchemy\n",
    "Base = declarative_base()\n",
    "\n",
    "# Create Classes by telling SQLAlchemy the name of column and its attributes:\n",
    "class Measurement(Base):\n",
    "    __tablename__ = 'measurement'\n",
    "    station = Column(String(255), primary_key=True)\n",
    "    date = Column(Date, primary_key=True)\n",
    "    prcp = Column(Integer)    # prcp: precipitation\n",
    "    tobs = Column(Integer)    # tobs: temperature observation\n",
    "\n",
    "class Station(Base):\n",
    "    __tablename__ = 'station'\n",
    "    station = Column(String(255), primary_key=True)\n",
    "    name = Column(String(255))\n",
    "    latitude = Column(Float)\n",
    "    longitude = Column(Float)\n",
    "    elevation = Column(Float)"
   ]
  },
  {
   "cell_type": "code",
   "execution_count": 174,
   "metadata": {},
   "outputs": [
    {
     "data": {
      "text/plain": [
       "['measurement', 'station']"
      ]
     },
     "execution_count": 174,
     "metadata": {},
     "output_type": "execute_result"
    }
   ],
   "source": [
    "# Create a \"Metadata\" Layer That Abstracts our SQL Database\n",
    "Base.metadata.create_all(engine)\n",
    "\n",
    "# Use the Inspector to explore the database and print the table names\n",
    "inspector = inspect(engine)\n",
    "inspector.get_table_names()"
   ]
  },
  {
   "cell_type": "code",
   "execution_count": 175,
   "metadata": {
    "collapsed": true
   },
   "outputs": [],
   "source": [
    "# Populate the two tables from dataframes\n",
    "clean_measurements_data.to_sql('measurement', con=engine, if_exists='append',index = False)\n",
    "clean_stations_data.to_sql('station', con=engine, if_exists='append',index = False)"
   ]
  },
  {
   "cell_type": "code",
   "execution_count": null,
   "metadata": {
    "collapsed": true
   },
   "outputs": [],
   "source": []
  }
 ],
 "metadata": {
  "kernelspec": {
   "display_name": "Python 3",
   "language": "python",
   "name": "python3"
  },
  "language_info": {
   "codemirror_mode": {
    "name": "ipython",
    "version": 3
   },
   "file_extension": ".py",
   "mimetype": "text/x-python",
   "name": "python",
   "nbconvert_exporter": "python",
   "pygments_lexer": "ipython3",
   "version": "3.6.3"
  }
 },
 "nbformat": 4,
 "nbformat_minor": 2
}
