{
 "cells": [
  {
   "cell_type": "code",
   "execution_count": 211,
   "metadata": {
    "collapsed": true
   },
   "outputs": [],
   "source": [
    "# Python SQL toolkit and Object Relational Mapper\n",
    "import sqlalchemy\n",
    "import datetime as dt\n",
    "from sqlalchemy.ext.automap import automap_base\n",
    "from sqlalchemy.orm import Session\n",
    "from sqlalchemy import create_engine, inspect, func\n",
    "\n",
    "# Import Matplot lib\n",
    "import matplotlib\n",
    "from matplotlib import style\n",
    "style.use('seaborn')\n",
    "import matplotlib.pyplot as plt\n",
    "\n",
    "import pandas as pd\n",
    "import numpy as np"
   ]
  },
  {
   "cell_type": "code",
   "execution_count": 212,
   "metadata": {},
   "outputs": [
    {
     "data": {
      "text/plain": [
       "['measurement', 'station']"
      ]
     },
     "execution_count": 212,
     "metadata": {},
     "output_type": "execute_result"
    }
   ],
   "source": [
    "# Create Database Connection\n",
    "engine = create_engine(\"sqlite:///Resources/hawaii.sqlite\", echo=False)\n",
    "\n",
    "# Declare a Base using `automap_base()`\n",
    "Base = automap_base()\n",
    "# Use the Base class to reflect the database tables\n",
    "Base.prepare(engine, reflect=True)\n",
    "# Print all of the classes mapped to the Base\n",
    "Base.classes.keys()"
   ]
  },
  {
   "cell_type": "code",
   "execution_count": 213,
   "metadata": {
    "collapsed": true
   },
   "outputs": [],
   "source": [
    "# Reflect Database into ORM class\n",
    "Base = automap_base()\n",
    "Base.prepare(engine, reflect=True)\n",
    "Measurement = Base.classes.measurement\n",
    "Station = Base.classes.station\n",
    "\n",
    "# Start a session to query the database\n",
    "session = Session(engine)"
   ]
  },
  {
   "cell_type": "code",
   "execution_count": 214,
   "metadata": {},
   "outputs": [
    {
     "data": {
      "text/plain": [
       "[(datetime.date(2017, 8, 23))]"
      ]
     },
     "execution_count": 214,
     "metadata": {},
     "output_type": "execute_result"
    }
   ],
   "source": [
    "# Identify most recent date \n",
    "session.query(func.max(Measurement.date)).all()"
   ]
  },
  {
   "cell_type": "code",
   "execution_count": 215,
   "metadata": {
    "collapsed": true
   },
   "outputs": [],
   "source": [
    "# Retrieve the last 12 months of precipitation data. \n",
    "results = session.query(Measurement.date,Measurement.prcp).\\\n",
    "filter(Measurement.date <= '2017-08-23').\\\n",
    "filter(Measurement.date >= '2016-08-23').\\\n",
    "order_by(Measurement.date.desc()).all()"
   ]
  },
  {
   "cell_type": "code",
   "execution_count": 216,
   "metadata": {},
   "outputs": [
    {
     "data": {
      "image/png": "[encoded data removed]",
      "text/plain": [
       "<matplotlib.figure.Figure at 0x1157ef7f0>"
      ]
     },
     "metadata": {},
     "output_type": "display_data"
    }
   ],
   "source": [
    "# Load the results into a pandas dataframe. \n",
    "prcp_data = pd.DataFrame(results)\n",
    "\n",
    "#Plot Precipitation for the lat 12 months\n",
    "plt.bar(prcp_data['date'], prcp_data['prcp'], label= 'Precipitation',\n",
    "        color= 'dodgerblue', width = 2 )\n",
    "plt.title('Precipitation for Last 12 Months', fontsize = 14)\n",
    "plt.xlabel('Measurement Date')\n",
    "plt.xlim('2016-08-23','2017-08-23')\n",
    "plt.ylim(0,7)\n",
    "plt.legend(loc= 'upper left')\n",
    "plt.xticks(rotation=45)\n",
    "plt.show()"
   ]
  },
  {
   "cell_type": "code",
   "execution_count": 217,
   "metadata": {},
   "outputs": [
    {
     "data": {
      "text/plain": [
       "9"
      ]
     },
     "execution_count": 217,
     "metadata": {},
     "output_type": "execute_result"
    }
   ],
   "source": [
    "### Station Analysis\n",
    "\n",
    "#query to calculate the total number of stations.\n",
    "session.query(Measurement).distinct(Measurement.station).\\\n",
    "            group_by(Measurement.station).count()"
   ]
  },
  {
   "cell_type": "code",
   "execution_count": 218,
   "metadata": {},
   "outputs": [
    {
     "data": {
      "text/plain": [
       "[('USC00519281', 2772),\n",
       " ('USC00519397', 2724),\n",
       " ('USC00513117', 2709),\n",
       " ('USC00519523', 2669),\n",
       " ('USC00516128', 2612),\n",
       " ('USC00514830', 2202),\n",
       " ('USC00511918', 1979),\n",
       " ('USC00517948', 1372),\n",
       " ('USC00518838', 511)]"
      ]
     },
     "execution_count": 218,
     "metadata": {},
     "output_type": "execute_result"
    }
   ],
   "source": [
    "#query to find the most active stations.\n",
    "stationQ = session.query(Measurement.station,\n",
    "                         func.count(Measurement.prcp)).\\\n",
    "                         group_by(Measurement.station).\\\n",
    "                         order_by(func.count(Measurement.prcp).desc()).all()\n",
    "# Display the query result\n",
    "stationQ"
   ]
  },
  {
   "cell_type": "code",
   "execution_count": 219,
   "metadata": {
    "collapsed": true
   },
   "outputs": [],
   "source": [
    "# Retrieve the last 12 months of precipitation data. \n",
    "results = session.query(Measurement.tobs).\\\n",
    "filter(Measurement.date <= '2017-08-23').\\\n",
    "filter(Measurement.date >= '2016-08-23').\\\n",
    "filter(Measurement.station == 'USC00519281').all()\n",
    "\n",
    "# Load the results into a pandas dataframe\n",
    "tobs_data = pd.DataFrame(results)"
   ]
  },
  {
   "cell_type": "code",
   "execution_count": 220,
   "metadata": {},
   "outputs": [
    {
     "data": {
      "image/png": "[encoded data removed]",
      "text/plain": [
       "<matplotlib.figure.Figure at 0x11244f7b8>"
      ]
     },
     "metadata": {},
     "output_type": "display_data"
    }
   ],
   "source": [
    "# Plot the results as a histogram with `bins=12`\n",
    "bin_range = [59,61,63,65,67,69,71,73,75,77,79,81,83]\n",
    "plt.hist(tobs_data['tobs'] ,label= 'tobs', bins=bin_range, color= 'dodgerblue')\n",
    "plt.ylabel('Frequency')\n",
    "plt.xlabel('Temperature Observation')\n",
    "plt.ylim(0,70)\n",
    "plt.xlim(58,84)\n",
    "plt.legend()\n",
    "\n",
    "plt.show()"
   ]
  },
  {
   "cell_type": "code",
   "execution_count": 225,
   "metadata": {
    "collapsed": true
   },
   "outputs": [],
   "source": [
    "### Temperature Analysis\n",
    "\n",
    "# Create a function accepts start and end date and return the minimum, average, and maximum temperatures for that range of dates.\n",
    "\n",
    "def calc_temps(start_date, end_date):\n",
    "    return pd.DataFrame(session.query(func.avg(Measurement.tobs).label('tobs_averge'), \n",
    "                                     func.max(Measurement.tobs).label('tobs_highest'), \n",
    "                                     func.min(Measurement.tobs).label('tobs_lowest')).\\\n",
    "                                     filter(func.strftime('%Y-%m-%d', Measurement.date) <= end_date).\\\n",
    "                                     filter(func.strftime('%Y-%m-%d', Measurement.date) >= start_date).all())"
   ]
  },
  {
   "cell_type": "code",
   "execution_count": 226,
   "metadata": {},
   "outputs": [
    {
     "data": {
      "text/html": [
       "<div>\n",
       "<style>\n",
       "    .dataframe thead tr:only-child th {\n",
       "        text-align: right;\n",
       "    }\n",
       "\n",
       "    .dataframe thead th {\n",
       "        text-align: left;\n",
       "    }\n",
       "\n",
       "    .dataframe tbody tr th {\n",
       "        vertical-align: top;\n",
       "    }\n",
       "</style>\n",
       "<table border=\"1\" class=\"dataframe\">\n",
       "  <thead>\n",
       "    <tr style=\"text-align: right;\">\n",
       "      <th></th>\n",
       "      <th>tobs_averge</th>\n",
       "      <th>tobs_highest</th>\n",
       "      <th>tobs_lowest</th>\n",
       "    </tr>\n",
       "  </thead>\n",
       "  <tbody>\n",
       "    <tr>\n",
       "      <th>0</th>\n",
       "      <td>77.458848</td>\n",
       "      <td>84</td>\n",
       "      <td>69</td>\n",
       "    </tr>\n",
       "  </tbody>\n",
       "</table>\n",
       "</div>"
      ],
      "text/plain": [
       "   tobs_averge  tobs_highest  tobs_lowest\n",
       "0    77.458848            84           69"
      ]
     },
     "execution_count": 226,
     "metadata": {},
     "output_type": "execute_result"
    }
   ],
   "source": [
    "# calculate the min, avg, and max temperatures for your trip\n",
    "calc_temps('2016-06-15', '2016-08-30')"
   ]
  },
  {
   "cell_type": "code",
   "execution_count": 287,
   "metadata": {
    "collapsed": true
   },
   "outputs": [],
   "source": [
    "std = np.std([tobs_data.get_value(index= 0, col='tobs_highest'),tobs_data.get_value(index= 0, col='tobs_lowest')])\n"
   ]
  },
  {
   "cell_type": "code",
   "execution_count": 303,
   "metadata": {},
   "outputs": [
    {
     "data": {
      "image/png": "[encoded data removed]",
      "text/plain": [
       "<matplotlib.figure.Figure at 0x11220d160>"
      ]
     },
     "metadata": {},
     "output_type": "display_data"
    }
   ],
   "source": [
    "# Plot the min, avg, and max temperature for your planned trip.\n",
    "\n",
    "ind = np.arange(1) \n",
    "opacity = 0.35\n",
    "std = np.std([tobs_data.get_value(index= 0, col='tobs_highest'),\n",
    "              tobs_data.get_value(index= 0, col='tobs_lowest')])\n",
    "\n",
    "\n",
    "fig, ax = plt.subplots()\n",
    "ax.bar(ind, tobs_data['tobs_averge'],  alpha=opacity, color='r',\n",
    "       yerr =std, label= 'Average  Temperature' )\n",
    "ax.set_title('Minimum, Average, and Maximum Temperature')\n",
    "ax.set_ylabel('Temperature')\n",
    "ax.set_xticklabels([])\n",
    "plt.ylim(0,100)\n",
    "plt.legend()\n",
    "\n",
    "plt.show()"
   ]
  }
 ],
 "metadata": {
  "kernelspec": {
   "display_name": "Python 3",
   "language": "python",
   "name": "python3"
  },
  "language_info": {
   "codemirror_mode": {
    "name": "ipython",
    "version": 3
   },
   "file_extension": ".py",
   "mimetype": "text/x-python",
   "name": "python",
   "nbconvert_exporter": "python",
   "pygments_lexer": "ipython3",
   "version": "3.6.3"
  }
 },
 "nbformat": 4,
 "nbformat_minor": 2
}
